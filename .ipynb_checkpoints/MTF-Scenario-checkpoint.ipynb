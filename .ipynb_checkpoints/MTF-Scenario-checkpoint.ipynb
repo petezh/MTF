{
 "cells": [
  {
   "cell_type": "markdown",
   "metadata": {},
   "source": [
    "MTF Scenario\n",
    "---\n",
    "\n",
    "### Setup"
   ]
  },
  {
   "cell_type": "code",
   "execution_count": 117,
   "metadata": {},
   "outputs": [],
   "source": [
    "# imports\n",
    "import pandas as pd\n",
    "import matplotlib.pyplot  as plt\n",
    "import matplotlib as mpl\n",
    "import math\n",
    "import numpy as np\n",
    "import seaborn as sns"
   ]
  },
  {
   "cell_type": "code",
   "execution_count": 200,
   "metadata": {},
   "outputs": [],
   "source": [
    "# read indemnity data\n",
    "data_indemnified = pd.read_excel(\"Scenarios\\scenario_1.xlsx\", \n",
    "                                 sheet_name = 0,\n",
    "                                 header = 0,\n",
    "                                 # update column names\n",
    "                                 names = [\"year\", \"month_ID\", \"month_name\",\n",
    "                                        \"county\", \"crop\", \"cause\",\n",
    "                                        \"num_indem\", \"acres\", \"liability\",\n",
    "                                        \"premium\", \"subsidy\", \"indemnity\",\n",
    "                                        \"loss_ratio\"],\n",
    "                                 converters ={\n",
    "                                    # make all crop names lowercase\n",
    "                                    'crop': lambda x: x.lower()\n",
    "                                 })\n",
    "\n",
    "# read policy data\n",
    "data_policies = pd.read_excel(\"Scenarios\\scenario_1.xlsx\", \n",
    "                              \n",
    "                              sheet_name = 1,\n",
    "                              header = 0,\n",
    "                              # update colmn names\n",
    "                              names = [\"year\", \"crop\", \"county\",\n",
    "                                      \"num_sold\", \"num_indem\",\n",
    "                                      \"acres\", \"liabilities\", \"premium\",\n",
    "                                       \"subsidy\", \"indemnity\", \"loss_ratio\"],\n",
    "                                converters ={\n",
    "                                    # make all crop names lowercase\n",
    "                                    'crop': lambda x: x.lower()\n",
    "                                })\n",
    "\n",
    "# read temperature data\n",
    "data_temp = pd.read_excel(\"Scenarios\\scenario_1.xlsx\", \n",
    "                          sheet_name = 2,\n",
    "                          header = 0,\n",
    "                         names = [\"year\", \"month_ID\", \"month_name\",\n",
    "                                 \"value\", \"anomaly\"])"
   ]
  },
  {
   "cell_type": "markdown",
   "metadata": {},
   "source": [
    "#### Question 1\n",
    "\n",
    "Determine the loss (indemnity) per policy sold for almonds and for grapes in 2018?"
   ]
  },
  {
   "cell_type": "code",
   "execution_count": 54,
   "metadata": {},
   "outputs": [
    {
     "name": "stdout",
     "output_type": "stream",
     "text": [
      "Almond loss per policy:  21171.47646219686\n",
      "Grapes loss per policy:  3040.013779527559\n"
     ]
    }
   ],
   "source": [
    "# get almond policy in 2018\n",
    "almond_2018 = data_policies.loc[(data_policies[\"year\"] == 2018) & (data_policies[\"crop\"] == \"almonds\")].iloc[0]\n",
    "\n",
    "# find average indemnity\n",
    "print(\"Almond loss per policy: \", (almond_2018.indemnity / almond_2018.num_sold))\n",
    "\n",
    "# get grape policy in 2018\n",
    "grapes_2018 = data_policies.loc[(data_policies[\"year\"] == 2018) & (data_policies[\"crop\"] == \"grapes\")].iloc[0]\n",
    "\n",
    "# find average indemnity\n",
    "print(\"Grapes loss per policy: \", (grapes_2018.indemnity / grapes_2018.num_sold))"
   ]
  },
  {
   "cell_type": "markdown",
   "metadata": {},
   "source": [
    "#### Question 2\n",
    "\n",
    "Which crop had the higher annual loss per acre of all the policies sold in 2018?"
   ]
  },
  {
   "cell_type": "code",
   "execution_count": 60,
   "metadata": {},
   "outputs": [
    {
     "name": "stdout",
     "output_type": "stream",
     "text": [
      "Almond loss per acre:  99.67028871144302\n",
      "Grapes loss per acre:  28.02389874336524\n",
      "Almonds have have a higher loss per acre.\n"
     ]
    }
   ],
   "source": [
    "print(\"Almond loss per acre: \", (almond_2018.indemnity / almond_2018.acres))\n",
    "print(\"Grapes loss per acre: \", (grapes_2018.indemnity / grapes_2018.acres))"
   ]
  },
  {
   "cell_type": "markdown",
   "metadata": {},
   "source": [
    "Almonds have have a higher loss per acre."
   ]
  },
  {
   "cell_type": "markdown",
   "metadata": {},
   "source": [
    "#### Question 3\n",
    "\n",
    "Which value, Loss per Policy Sold, or Loss per Acre, can give Omega Insurance a better understanding of the overall value of providing insurance policies to farmers in Acme County? Explain why."
   ]
  },
  {
   "cell_type": "markdown",
   "metadata": {},
   "source": [
    "Loss per acre gives a better understanding because the value of an insurance policy scales with the size of the farm that it covers."
   ]
  },
  {
   "cell_type": "markdown",
   "metadata": {},
   "source": [
    "#### Question 4\n",
    "\n",
    "Create a histogram of the percentage of policies indemnified each year (the percentage of the policies sold that had a loss). Describe the shape of the histogram and explain logically why you think it is this shape."
   ]
  },
  {
   "cell_type": "code",
   "execution_count": 66,
   "metadata": {},
   "outputs": [
    {
     "data": {
      "image/png": "[encoded data removed]",
      "text/plain": [
       "<Figure size 432x288 with 1 Axes>"
      ]
     },
     "metadata": {
      "needs_background": "light"
     },
     "output_type": "display_data"
    }
   ],
   "source": [
    "# get percentage column\n",
    "percentages = data_policies['num_indem'] / data_policies['num_sold']\n",
    "\n",
    "# plot histogram\n",
    "plt.hist(percentages)\n",
    "plt.title(\"Histogram of Percent Indemnified\")\n",
    "plt.xlabel(\"Percentage of Sold Policies Indemnified\")\n",
    "plt.ylabel(\"Frequency\")\n",
    "plt.show()"
   ]
  },
  {
   "cell_type": "markdown",
   "metadata": {},
   "source": [
    "The data appear to be skewed right, which indicates that for the majority of years, a small percentage (<10%) of policies were indemnified. This is expected, as we would expect that usually, most farms would not experience a loss. However, there are outliers, such as the year were almost half of all farms were indemnified. This indicates that during some years, an event may impact many farms at once, such as a flood or drought."
   ]
  },
  {
   "cell_type": "markdown",
   "metadata": {},
   "source": [
    "#### Question 5\n",
    "\n",
    "Determine which month has the highest average agricultural loss in Acme county? Explain why you think this is the case."
   ]
  },
  {
   "cell_type": "code",
   "execution_count": 76,
   "metadata": {},
   "outputs": [
    {
     "name": "stdout",
     "output_type": "stream",
     "text": [
      "Month #0 Loss: 389.4\n",
      "Month #1 Loss: 3888358.4\n",
      "Month #2 Loss: 73632651.98\n",
      "Month #3 Loss: 49884767.870000005\n",
      "Month #4 Loss: 29294589.84\n",
      "Month #5 Loss: 3733096.9699999997\n",
      "Month #6 Loss: 6833176.6899999995\n",
      "Month #7 Loss: 7832170.91\n",
      "Month #8 Loss: 3085194.1999999997\n",
      "Month #9 Loss: 1583608.23\n",
      "Month #10 Loss: 632557.36\n",
      "Month #11 Loss: 206967.13\n"
     ]
    },
    {
     "data": {
      "image/png": "[encoded data removed]",
      "text/plain": [
       "<Figure size 432x288 with 1 Axes>"
      ]
     },
     "metadata": {
      "needs_background": "light"
     },
     "output_type": "display_data"
    }
   ],
   "source": [
    "month_losses = []\n",
    "\n",
    "# iterate through months\n",
    "months = range(0, 12)\n",
    "for month in months:\n",
    "    \n",
    "    # gather month data\n",
    "    data_bymonth = data_indemnified[data_indemnified[\"month_ID\"] == month]\n",
    "    \n",
    "    # calculate loss\n",
    "    total_loss = data_bymonth[\"indemnity\"].sum()\n",
    "    \n",
    "    # collect loss\n",
    "    month_losses += [total_loss]\n",
    "    \n",
    "    print(\"Month #\", month, \" Loss: \", total_loss, sep=\"\")\n",
    "    \n",
    "plt.plot(month_losses)\n",
    "plt.show()"
   ]
  },
  {
   "cell_type": "markdown",
   "metadata": {},
   "source": [
    "March is the season with the greatest average agrilcultural losses. This may be because March marks the beginning of planting season and thus is when plants are most suceptible to different forms of damage."
   ]
  },
  {
   "cell_type": "markdown",
   "metadata": {},
   "source": [
    "#### Question 6\n",
    "\n",
    "Determine which cause of loss for agricultural claims was the largest in Acme county from 1991 to 2018? "
   ]
  },
  {
   "cell_type": "code",
   "execution_count": 82,
   "metadata": {},
   "outputs": [
    {
     "name": "stdout",
     "output_type": "stream",
     "text": [
      "Hail Losses: 15383456.21\n",
      "Cold Wet Weather Losses: 17237942.86\n",
      "Excess Moisture Losses: 64527586.629999995\n",
      "Heat Losses: 36033267.45\n",
      "Wind/Excess Wind Losses: 5705580.949999999\n",
      "Cold Winter Losses: 919792.4\n",
      "Frost Losses: 20754693.48\n",
      "Flood Losses: 10994.9\n",
      "Freeze Losses: 16605613.889999999\n",
      "Insects Losses: 248135.9\n",
      "Failure of Irrigation Supply Losses: 6343898.7\n",
      "Failure of Irrigation Equipment Losses: 162249.4\n"
     ]
    }
   ],
   "source": [
    "cause_losses = []\n",
    "\n",
    "# find all causes\n",
    "causes = data_indemnified[\"cause\"].unique()\n",
    "\n",
    "# iterate through causes\n",
    "for cause in causes:\n",
    "    \n",
    "    # gather month data\n",
    "    data_bycause = data_indemnified[data_indemnified[\"cause\"] == cause]\n",
    "    \n",
    "    # calculate loss\n",
    "    total_loss = data_bycause[\"indemnity\"].sum()\n",
    "    \n",
    "    # collect loss\n",
    "    cause_losses += [[cause, total_loss]]\n",
    "    \n",
    "    print(cause, \"Losses:\", total_loss)"
   ]
  },
  {
   "cell_type": "markdown",
   "metadata": {},
   "source": [
    "Excess moisture was the largest cuase of loss for those claims."
   ]
  },
  {
   "cell_type": "markdown",
   "metadata": {},
   "source": [
    "#### Question 7\n",
    "\n",
    "What was the likelihood that the FCIC had a total annual loss of greater than $10,000,000 in Acme county? In which years were those losses?"
   ]
  },
  {
   "cell_type": "code",
   "execution_count": 90,
   "metadata": {},
   "outputs": [
    {
     "name": "stdout",
     "output_type": "stream",
     "text": [
      "2009\n",
      "2014\n",
      "2015\n",
      "2016\n",
      "2017\n",
      "2018\n",
      "Likelihood: 0.21428571428571427\n"
     ]
    },
    {
     "data": {
      "image/png": "[encoded data removed]",
      "text/plain": [
       "<Figure size 432x288 with 1 Axes>"
      ]
     },
     "metadata": {
      "needs_background": "light"
     },
     "output_type": "display_data"
    }
   ],
   "source": [
    "yearly_losses = []\n",
    "years_greater = []\n",
    "\n",
    "# iterate years\n",
    "years = range(1991, 2019)\n",
    "for year in years:\n",
    "    \n",
    "    # subset year\n",
    "    data_byyear = data_policies[data_policies[\"year\"] == year]\n",
    "    \n",
    "    # get total losses\n",
    "    total_losses = data_byyear[\"indemnity\"].sum()\n",
    "    yearly_losses += [total_losses]\n",
    "    \n",
    "    # check if greater than 10M\n",
    "    if(total_losses > 10000000):\n",
    "        years_greater += [year]\n",
    "        print(year)\n",
    "\n",
    "# calculate likelihood\n",
    "print(\"Likelihood:\", len(years_greater)/(2019-1991))\n",
    "        \n",
    "plt.plot(years, yearly_losses)\n",
    "plt.show()"
   ]
  },
  {
   "cell_type": "markdown",
   "metadata": {},
   "source": [
    "#### Question 8\n",
    "\n",
    "What are some reasons that the FCIC high-loss years are concentrated in this most recent decade? Provide one or more reasons that the loss increased in these years. "
   ]
  },
  {
   "cell_type": "markdown",
   "metadata": {},
   "source": [
    "There has been a large increase in the total amount of liabilities issued by the FCIC in the recent decade. This trend can be observed in the graph below."
   ]
  },
  {
   "cell_type": "code",
   "execution_count": 108,
   "metadata": {},
   "outputs": [
    {
     "data": {
      "text/plain": [
       "crop\n",
       "almonds    AxesSubplot(0.125,0.125;0.775x0.755)\n",
       "grapes     AxesSubplot(0.125,0.125;0.775x0.755)\n",
       "Name: liabilities, dtype: object"
      ]
     },
     "execution_count": 108,
     "metadata": {},
     "output_type": "execute_result"
    },
    {
     "data": {
      "image/png": "[encoded data removed]",
      "text/plain": [
       "<Figure size 432x288 with 1 Axes>"
      ]
     },
     "metadata": {
      "needs_background": "light"
     },
     "output_type": "display_data"
    }
   ],
   "source": [
    "# plot liabilities by crop group\n",
    "liability_plot = data_policies.copy()\n",
    "liability_plot.set_index('year', inplace = True)\n",
    "liability_plot.groupby(\"crop\")[\"liabilities\"].plot(legend = True)"
   ]
  },
  {
   "cell_type": "markdown",
   "metadata": {},
   "source": [
    "#### Question 9\n",
    "\n",
    "Graph the total indemnity per year from 1991 to 2018. Create a linear regression trendline for almonds and for grapes."
   ]
  },
  {
   "cell_type": "code",
   "execution_count": 184,
   "metadata": {},
   "outputs": [
    {
     "data": {
      "image/png": "[encoded data removed]",
      "text/plain": [
       "<Figure size 432x288 with 1 Axes>"
      ]
     },
     "metadata": {
      "needs_background": "light"
     },
     "output_type": "display_data"
    },
    {
     "data": {
      "image/png": "[encoded data removed]",
      "text/plain": [
       "<Figure size 432x288 with 1 Axes>"
      ]
     },
     "metadata": {
      "needs_background": "light"
     },
     "output_type": "display_data"
    }
   ],
   "source": [
    "# for each crop group\n",
    "for key, grp in data_policies.groupby(['crop']):\n",
    "    \n",
    "    # plot graph with linreg\n",
    "    sns.regplot(x='year',y='indemnity',label=key,data=grp, fit_reg=True)\n",
    "    plt.title(\"Total Indemnity Per Year for \"+key)\n",
    "    plt.show()"
   ]
  },
  {
   "cell_type": "markdown",
   "metadata": {},
   "source": [
    "#### Question 10\n",
    "\n",
    "What percent of the total liability between 1991-2018 occurred in the last 5 years (2014-2018). What are some benefits or negative aspects of using just the past 5 years of data to project potential indemnities in the future 2019."
   ]
  },
  {
   "cell_type": "code",
   "execution_count": 133,
   "metadata": {},
   "outputs": [
    {
     "name": "stdout",
     "output_type": "stream",
     "text": [
      "0.494727260708278\n"
     ]
    }
   ],
   "source": [
    "# get total liability\n",
    "total_liability = data_policies['liabilities'].sum()\n",
    "\n",
    "# get last five year liability\n",
    "lastfive_liability = data_policies[data_policies['year'] >= 2014]['liabilities'].sum()\n",
    "\n",
    "# print percentage\n",
    "print(lastfive_liability/total_liability)"
   ]
  },
  {
   "cell_type": "markdown",
   "metadata": {},
   "source": [
    "Recent data can better reflect the policy and financial environment of the company which can lend greater credibiltiy to predictions. However, using only recent data may also overlook long-term trends in liability growth."
   ]
  },
  {
   "cell_type": "markdown",
   "metadata": {},
   "source": [
    "#### Question 11\n",
    "\n",
    "In question \\#3, you determined there was a difference in the usefulness of information being provided in analyzing the annual loss per policy versus loss per acre. What difference in the usefulness of information do you see in analyzing the annual loss per liability ratio? What does the annual loss per liability tell you that the other ratios do not?"
   ]
  },
  {
   "cell_type": "markdown",
   "metadata": {},
   "source": [
    "The loss per liability offers a unique calculation that can account for not only the acres covered, but also the value of those acres. This may offer even better insight, as land can have different per-acre value if it is employed for different purposes."
   ]
  },
  {
   "cell_type": "markdown",
   "metadata": {},
   "source": [
    "#### Question 12\n",
    "\n",
    "Graph the annual loss (indemnity) to liability ratios for grapes and almonds from 1991 to 2018 (for all policies). Compare the variability in these ratios for the first 10 years (1991 to 2000) with the last ten years (2009-2018)? Is there a difference in variability (identified by the Standard Deviation) in the ratios  between the first 10 years and last 10 years for either grapes or almonds? Using the data provided explain why it might be the case that some of the data has a higher variability than others."
   ]
  },
  {
   "cell_type": "code",
   "execution_count": 135,
   "metadata": {},
   "outputs": [
    {
     "data": {
      "text/plain": [
       "crop\n",
       "almonds    AxesSubplot(0.125,0.125;0.775x0.755)\n",
       "grapes     AxesSubplot(0.125,0.125;0.775x0.755)\n",
       "Name: loss_ratio, dtype: object"
      ]
     },
     "execution_count": 135,
     "metadata": {},
     "output_type": "execute_result"
    },
    {
     "data": {
      "image/png": "[encoded data removed]",
      "text/plain": [
       "<Figure size 432x288 with 1 Axes>"
      ]
     },
     "metadata": {
      "needs_background": "light"
     },
     "output_type": "display_data"
    }
   ],
   "source": [
    "# plot loss ratios by crop group\n",
    "ratios_plot = data_policies.copy()\n",
    "ratios_plot.set_index('year', inplace = True)\n",
    "ratios_plot.groupby(\"crop\")[\"loss_ratio\"].plot(legend = True)"
   ]
  },
  {
   "cell_type": "code",
   "execution_count": 148,
   "metadata": {},
   "outputs": [
    {
     "name": "stdout",
     "output_type": "stream",
     "text": [
      "SD in first 10 for almonds crop: 0.049807706127372606\n",
      "SD in last 10 for almonds crop: 0.013734090949714539\n",
      "SD in first 10 for grapes crop: 0.018473063937323345\n",
      "SD in last 10 for grapes crop: 0.01784415943927369\n"
     ]
    }
   ],
   "source": [
    "# for each crop group\n",
    "for key, grp in data_policies.groupby(['crop']):\n",
    "    \n",
    "    # 1991-2000\n",
    "    first_ten = grp[grp['year'] < 2001]\n",
    "    \n",
    "    # calculate SD\n",
    "    ft_SD = np.std(first_ten['indemnity']/first_ten['liabilities'])\n",
    "    \n",
    "    # 2009-2018\n",
    "    last_ten = grp[grp['year'] >= 2009]\n",
    "    \n",
    "    # calculate SD\n",
    "    lt_SD = np.std(last_ten['indemnity']/last_ten['liabilities'])\n",
    "    \n",
    "    print(\"SD in first 10 for\", key, \"crop:\", ft_SD)\n",
    "    print(\"SD in last 10 for\", key, \"crop:\", lt_SD)\n",
    "    "
   ]
  },
  {
   "cell_type": "markdown",
   "metadata": {},
   "source": [
    "There is a large difference in standard diaviation for almonds and a much smaller difference for grapes. One explanation is that there are a greater number of policies as time passes. By the law of large numbers, we can expect sampled values to better predict the actual value, thus decreasing the standard deviation."
   ]
  },
  {
   "cell_type": "markdown",
   "metadata": {},
   "source": [
    "#### Question 13\n",
    "\n",
    "Between 1991 and 2018, what is the likelihood of having a positive monthly max temperature anomaly?"
   ]
  },
  {
   "cell_type": "code",
   "execution_count": 170,
   "metadata": {},
   "outputs": [
    {
     "name": "stdout",
     "output_type": "stream",
     "text": [
      "Likelihood of postiive anomaly:  0.6517857142857143\n"
     ]
    }
   ],
   "source": [
    "# count total anomalies\n",
    "num_anoms = len(data_temp.index)\n",
    "\n",
    "# count positive anomalies\n",
    "num_posanoms = len(data_temp[data_temp['anomaly'] > 0])\n",
    "\n",
    "prob_pos_anom = num_posanoms/num_anoms\n",
    "\n",
    "# calculate proporiton\n",
    "print(\"Likelihood of postiive anomaly: \", prob_pos_anom)"
   ]
  },
  {
   "cell_type": "markdown",
   "metadata": {},
   "source": [
    "For an arbitrary month from 1991 to 2018, the likelihood that it will have a postiive anomaly is 65.18%."
   ]
  },
  {
   "cell_type": "markdown",
   "metadata": {},
   "source": [
    "#### Question 14\n",
    "\n",
    "Create a scatterplot of the relationship between the max temperature anomaly and the loss to liability ratio just for the losses due to “Heat”. Is there a strong correlation between these values? Should a linear regression be used on this data to predict future values? Explain why or why not."
   ]
  },
  {
   "cell_type": "code",
   "execution_count": 215,
   "metadata": {},
   "outputs": [
    {
     "name": "stderr",
     "output_type": "stream",
     "text": [
      "C:\\Users\\thepe\\Anaconda3\\lib\\site-packages\\ipykernel_launcher.py:3: SettingWithCopyWarning: \n",
      "A value is trying to be set on a copy of a slice from a DataFrame.\n",
      "Try using .loc[row_indexer,col_indexer] = value instead\n",
      "\n",
      "See the caveats in the documentation: http://pandas.pydata.org/pandas-docs/stable/indexing.html#indexing-view-versus-copy\n",
      "  This is separate from the ipykernel package so we can avoid doing imports until\n",
      "C:\\Users\\thepe\\Anaconda3\\lib\\site-packages\\ipykernel_launcher.py:4: SettingWithCopyWarning: \n",
      "A value is trying to be set on a copy of a slice from a DataFrame.\n",
      "Try using .loc[row_indexer,col_indexer] = value instead\n",
      "\n",
      "See the caveats in the documentation: http://pandas.pydata.org/pandas-docs/stable/indexing.html#indexing-view-versus-copy\n",
      "  after removing the cwd from sys.path.\n"
     ]
    },
    {
     "data": {
      "image/png": "[encoded data removed]",
      "text/plain": [
       "<Figure size 432x288 with 1 Axes>"
      ]
     },
     "metadata": {
      "needs_background": "light"
     },
     "output_type": "display_data"
    }
   ],
   "source": [
    "# get heat data\n",
    "data_heat = data_indemnified[data_indemnified['cause'] == 'Heat']\n",
    "data_heat['date'] = data_heat['month_ID'].map(str)+ '-' +data_heat['year'].map(str)\n",
    "data_heat['date'] = pd.to_datetime(data_heat['date'], format='%m-%Y').dt.strftime('%m-%Y')\n",
    "\n",
    "# get temp data\n",
    "temp_plot = data_temp.copy()\n",
    "temp_plot['date'] = temp_plot['month_ID'].map(str)+ '-'+temp_plot['year'].map(str)\n",
    "temp_plot['date'] = pd.to_datetime(temp_plot['date'], format='%m-%Y').dt.strftime('%m-%Y')\n",
    "\n",
    "\n",
    "data_merged = pd.merge(data_heat, temp_plot, how='inner', on = 'date')\n",
    "\n",
    "plt.scatter(x=data_merged['anomaly'], y=data_merged['indemnity']/data_merged['liability'])\n",
    "plt.title(\"Anomaly and Loss-Liability Ratio for Heat-Caused Indemnities\")\n",
    "plt.xlabel(\"Anomaly\")\n",
    "plt.ylabel(\"Loss Ratio\")\n",
    "plt.show()"
   ]
  },
  {
   "cell_type": "markdown",
   "metadata": {},
   "source": [
    "There is not a strong correlation between these values. Linear regression should not be used on the data because there the data does not meet the Straight Enough Condition."
   ]
  },
  {
   "cell_type": "markdown",
   "metadata": {},
   "source": [
    "#### Question 15\n",
    "\n",
    "Using the monthly Max Temperature anomalies and indemnity values for losses due to heat, what is the likelihood of having an indemnity due to heat on grape crops if the anomaly is less than or equal to 0? What is the likelihood if the anomaly is positive? Use this information to calculate the overall likelihood of having a monthly loss due to heat for grapes?"
   ]
  },
  {
   "cell_type": "code",
   "execution_count": 168,
   "metadata": {
    "scrolled": true
   },
   "outputs": [
    {
     "name": "stdout",
     "output_type": "stream",
     "text": [
      "Probability for negative anomaly: 0.3333333333333333\n",
      "Probability for positive anomaly: 0.817351598173516\n",
      "Probability overall: 0.6488095238095238\n"
     ]
    }
   ],
   "source": [
    "# get neg anomalies\n",
    "total_neg = data_temp[data_temp['anomaly'] <= 0]\n",
    "indem_neg = data_merged[data_merged['anomaly'] <= 0]\n",
    "prob_neg = len(indem_neg.index) / len(total_neg.index)\n",
    "\n",
    "# get pos anomalies\n",
    "total_pos = data_temp[data_temp['anomaly'] > 0]\n",
    "indem_pos = data_merged[data_merged['anomaly'] > 0]\n",
    "prob_pos = len(indem_pos.index) / len(total_pos.index)\n",
    "\n",
    "# get total prob\n",
    "prob_overall = len(data_merged.index) / len(data_temp.index)\n",
    "\n",
    "print(\"Probability for negative anomaly:\", prob_neg)\n",
    "print(\"Probability for positive anomaly:\", prob_pos)\n",
    "print(\"Probability overall:\", prob_overall)"
   ]
  },
  {
   "cell_type": "markdown",
   "metadata": {},
   "source": [
    "#### Question 16\n",
    "\n",
    "How could this information help Omega Insurance better predict or plan for future indemnities due to heat?"
   ]
  },
  {
   "cell_type": "markdown",
   "metadata": {},
   "source": [
    "If we know that positive anomalies are associated with greater losses due to heat, then we can use predictions of future positive anomalies to inform projections of future indemnities."
   ]
  },
  {
   "cell_type": "markdown",
   "metadata": {},
   "source": [
    "#### Question 17\n",
    "\n",
    "If the likelihood of having a positive max temperature anomaly increased by 0.05 above what you calculated previously, what would happen to the likelihood of having a monthly loss due to heat for grapes?"
   ]
  },
  {
   "cell_type": "code",
   "execution_count": 172,
   "metadata": {},
   "outputs": [
    {
     "name": "stdout",
     "output_type": "stream",
     "text": [
      "The new likelihood would be 0.673010437051533\n",
      "This is an increase of 0.024200913242009126\n"
     ]
    }
   ],
   "source": [
    "# get new probs\n",
    "new_pos_prob = prob_pos_anom + 0.05\n",
    "new_neg_prob = 1-new_pos_prob\n",
    "\n",
    "# calculate new likelihood\n",
    "new_likelihood = new_pos_prob * prob_pos + new_neg_prob * prob_neg\n",
    "\n",
    "# print results\n",
    "print(\"The new likelihood would be\", new_likelihood)\n",
    "print(\"This is an increase of\", new_likelihood - prob_overall)"
   ]
  },
  {
   "cell_type": "markdown",
   "metadata": {},
   "source": [
    "#### Question 18\n",
    "\n",
    "To help measure the size or severity of a loss on crops, we can measure the indemnity per acre of policies that had a loss. In 2018, what was the indemnity per acre of the policies that had a loss (just those policies indemnified) for losses due to heat only?"
   ]
  },
  {
   "cell_type": "code",
   "execution_count": 183,
   "metadata": {},
   "outputs": [
    {
     "name": "stdout",
     "output_type": "stream",
     "text": [
      "Average indemnity per acre: 626.5293047746101\n"
     ]
    }
   ],
   "source": [
    "# get 2018 heat losses\n",
    "data_heat18 = data_heat[data_heat['year'] == 2018]\n",
    "\n",
    "# get sums\n",
    "total_indem = data_heat18['indemnity'].sum()\n",
    "total_acres = data_heat18['acres'].sum()\n",
    "\n",
    "# calculate average\n",
    "print(\"Average indemnity per acre:\", total_indem/total_acres)"
   ]
  },
  {
   "cell_type": "markdown",
   "metadata": {},
   "source": [
    "#### Question 19\n",
    "\n",
    "Expected value is a way to calculate how much, over time one would expect to pay. It is the value of the payment times the likelihood of it happening. In 2020 the FCIC expects to insure 110,000 acres of grapes. What is the difference in the expected value of the indemnity due to heat if the likelihood of a positive Max Temperature Anomaly remained what it has been between 1991-2018, versus if the likelihood increased by 0.05 as you noted above?"
   ]
  },
  {
   "cell_type": "code",
   "execution_count": 193,
   "metadata": {},
   "outputs": [
    {
     "name": "stdout",
     "output_type": "stream",
     "text": [
      "Normal likelihood: 51848179.96313401\n",
      "+5% likelihood: 52529181.7241633\n",
      "Difference: 681001.7610292882\n"
     ]
    }
   ],
   "source": [
    "# get monthly avg indemnity/acre for pos\n",
    "avg_pos = ((indem_pos['indemnity']/indem_pos['acres']).sum()) / len(indem_pos.index)\n",
    "\n",
    "# get monthly avg indemnity/acre for neg\n",
    "avg_neg = ((indem_neg['indemnity']/indem_neg['acres']).sum()) / len(indem_neg.index)\n",
    "\n",
    "# calculate expected values\n",
    "normal_expected = 110000 * (prob_pos_anom * avg_pos + (1 - prob_pos_anom) * avg_neg)\n",
    "increased_expected = 110000 * (new_pos_prob * avg_pos + new_neg_prob * avg_neg)\n",
    "\n",
    "print(\"Normal likelihood:\", normal_expected)\n",
    "print(\"+5% likelihood:\", increased_expected)\n",
    "print(\"Difference:\", increased_expected - normal_expected)"
   ]
  },
  {
   "cell_type": "markdown",
   "metadata": {},
   "source": [
    "#### Question 20\n",
    "\n",
    "What are the premiums per acre for grapes and for almonds for all policies (not just indemnified) in 2018? Is the premium per acre different for all policies versus just the policies that are indemnified? Explain why this might be."
   ]
  },
  {
   "cell_type": "code",
   "execution_count": 203,
   "metadata": {},
   "outputs": [
    {
     "name": "stdout",
     "output_type": "stream",
     "text": [
      "Indemnified policies 163.46123890652785\n",
      "All policies: 84.35132256346529\n"
     ]
    }
   ],
   "source": [
    "# get 2018 policies\n",
    "data_indemnified2018 = data_indemnified[data_indemnified['year'] == 2018]\n",
    "data_policies2018 = data_policies[data_policies['year'] == 2018]\n",
    "\n",
    "# calculate premium/acre\n",
    "print(\"Indemnified policies\", data_indemnified2018['premium'].sum() / data_indemnified2018['acres'].sum())\n",
    "print(\"All policies:\", data_policies2018['premium'].sum() / data_policies2018['acres'].sum())"
   ]
  },
  {
   "cell_type": "markdown",
   "metadata": {},
   "source": [
    "The premium for indemnified policies is almost twice as high as the premium for all policies. This could be an attempt by Omega Insurance to recoup losses by charging higher for risky policies."
   ]
  },
  {
   "cell_type": "markdown",
   "metadata": {},
   "source": [
    "#### Question 21\n",
    "\n",
    "In the data provided, there are two Loss Ratio columns, one in the Indemnified Policies by Month sheet and one in the All Policies Annual Summary sheet. Explain the difference between these two columns."
   ]
  },
  {
   "cell_type": "markdown",
   "metadata": {},
   "source": [
    "The loss-ratio column of the \"by Month\" sheet identifies the loss-ratio of only those policies which have been indemnified. Of course, these values will be high, as these are only for policies which have incurred a loss. The \"All Policies\" sheet includes the policies which have *not* been indemnified and finds the overall loss ratio. As expected, these values are usually much lower than the previous set of values."
   ]
  },
  {
   "cell_type": "markdown",
   "metadata": {},
   "source": [
    "#### Question 22\n",
    "\n",
    "Using the loss ratio for all policies, not just the indemnified ones, how likely was it between 1991 and 2018 that for the grape farmer policies the FCIC lost more money to indemnity than it brought in from the premiums?"
   ]
  },
  {
   "cell_type": "code",
   "execution_count": 206,
   "metadata": {},
   "outputs": [
    {
     "name": "stdout",
     "output_type": "stream",
     "text": [
      "Probability of loss: 0.07142857142857142\n"
     ]
    }
   ],
   "source": [
    "# find all loss ratios > 1\n",
    "losing_years = data_policies[(data_policies['crop'] == \"grapes\") & (data_policies['loss_ratio'] > 1)]\n",
    "\n",
    "# calculate probability\n",
    "print(\"Probability of loss:\", len(losing_years.index) / (2018-1990))"
   ]
  },
  {
   "cell_type": "markdown",
   "metadata": {},
   "source": [
    "#### Question 23\n",
    "\n",
    "Insurance companies, like all companies, have other expenses to be paid in order to maintain a healthy business. Explain how Omega Insurance might price the premium for their new crop insurance policies to make sure they can cover these other operating expenses."
   ]
  },
  {
   "cell_type": "markdown",
   "metadata": {},
   "source": [
    "Omega Insurance must price the premiums such that they can cover the cost of indemnities and operation while also retaining profit. Therefore, they may use expected indemnity and predicted operating expenses as a baseline for premiums."
   ]
  },
  {
   "cell_type": "markdown",
   "metadata": {},
   "source": [
    "#### Question 24\n",
    "\n",
    "The Omega Insurance Co. CEO is considering providing crop insurance policies to farmers in Acme county, but only wants to insure one type of crop to start. The CEO also wants to minimize the risk for the company on how much they might have to pay due to loss from the policies. Which crop would you recommend Omega pursue, insurance policies for Almond farmers, or insurance policies for grape farmers? Explain why."
   ]
  },
  {
   "cell_type": "code",
   "execution_count": 207,
   "metadata": {},
   "outputs": [
    {
     "name": "stdout",
     "output_type": "stream",
     "text": [
      "Grape ratio: 1.0581102\n",
      "Almond ratio: 0.7114368000000001\n"
     ]
    }
   ],
   "source": [
    "# get grape and almond data for the past five years\n",
    "grape_policies = data_policies[(data_policies['year'] >= 2014) & (data_policies['crop'] == 'grapes')]\n",
    "almond_policies = data_policies[(data_policies['year'] >= 2014) & (data_policies['crop'] == 'almonds')]\n",
    "\n",
    "# get average loss ratios\n",
    "grape_ratio = grape_policies['loss_ratio'].mean()\n",
    "almond_ratio = almond_policies['loss_ratio'].mean()\n",
    "\n",
    "print(\"Grape ratio:\", grape_ratio)\n",
    "print(\"Almond ratio:\", almond_ratio)"
   ]
  },
  {
   "cell_type": "markdown",
   "metadata": {},
   "source": [
    "For the past five years, the grape policies appeal to have a much greater average loss ratio than the almond policies. This suggest that they may be a safer investment."
   ]
  },
  {
   "cell_type": "markdown",
   "metadata": {},
   "source": [
    "#### Question 25\n",
    "\n",
    "Who do you think is subsidizing the premiums for crop insurance and why?"
   ]
  },
  {
   "cell_type": "markdown",
   "metadata": {},
   "source": [
    "The government subsidizes the premiums for the farmers in order to not only aid in rural development but also influence the cost and supply of agricultural goods. That means that the farmers have more money to improve their farming efficiency and encourage more farmers to plant. This helps to stabilize the markets and regulates the economy by providing incentives for the farmers to plant. It also helps the insurance company keep premiums low."
   ]
  },
  {
   "cell_type": "markdown",
   "metadata": {},
   "source": [
    "#### Question 26\n",
    "\n",
    "Taking the subsidy into account, how many years did the FCIC lose more from indemnities on grape farms than it took in from the portion of the premiums that were not covered by a subsidy?"
   ]
  },
  {
   "cell_type": "code",
   "execution_count": 212,
   "metadata": {},
   "outputs": [
    {
     "name": "stdout",
     "output_type": "stream",
     "text": [
      "This was true in 15 years.\n"
     ]
    }
   ],
   "source": [
    "# find years with loss without subsidies\n",
    "real_loss = data_policies[(data_policies['crop'] == 'grapes') & \n",
    "                          (data_policies['indemnity'] +data_policies['subsidy'] > data_policies['premium'])]\n",
    "\n",
    "# count\n",
    "print(\"This was true in\", len(real_loss.index), \"years.\")"
   ]
  },
  {
   "cell_type": "markdown",
   "metadata": {},
   "source": [
    "#### Question 27\n",
    "\n",
    "Besides what is provided in the spreadsheets, what other information would be helpful in projecting future crop losses and analyzing the potential for Omega Insurance to provide crop insurance policies in Acme county in the future?"
   ]
  },
  {
   "cell_type": "markdown",
   "metadata": {},
   "source": [
    "1. Humidity - trends in humidity level can help predict losses due to excess moisture.\n",
    "2. Percipitation - changes in the inches of percipitation annual can predict losses due to flooding and hail.\n",
    "3. Insect Patterns - variation in the level of insects (due to, for example, migration patterns) can influence losses due to insects."
   ]
  },
  {
   "cell_type": "markdown",
   "metadata": {},
   "source": [
    "#### Question 28\n",
    "\n",
    "If you were representing the government of Acme county and were faced with the knowledge that the likelihood of having a positive temperature anomaly were going to increase to 75% by 2030 what recommendations, incentives, or new policies could you make to help the farming community in your county?"
   ]
  },
  {
   "cell_type": "code",
   "execution_count": 213,
   "metadata": {},
   "outputs": [
    {
     "name": "stdout",
     "output_type": "stream",
     "text": [
      "Normal likelihood: 51848179.96313401\n",
      "+75% likelihood: 53185861.99372726\n",
      "Difference: 1337682.0305932462\n"
     ]
    }
   ],
   "source": [
    "increase75_expected = 110000 * (.75 * avg_pos + .25 * avg_neg)\n",
    "print(\"Normal likelihood:\", normal_expected)\n",
    "print(\"+75% likelihood:\", increase75_expected)\n",
    "print(\"Difference:\", increase75_expected - normal_expected)"
   ]
  },
  {
   "cell_type": "markdown",
   "metadata": {},
   "source": [
    "Our team would recommend two policy changes.\n",
    "\n",
    "First, we would increase subsidies for companies seeking to insure farms. If we assume that 110,000 acres would be covered in 2030, than we would expect an additional $1,337,682 in indemnities for insurance companies. As we found previously, subsidies play a large role in maintaining competitive policy rates for insurance companies.\n",
    "\n",
    "Second, in order to hedge against the damages brought about by climate change, we believe that local governments like the Acme county government should incentivize farmers to adopt green practices. By using innovative farm equipment, better seeds, green energy and climate-smart practices, U.S. farmers and ranchers are producing mcan use less water, protect against erosion and conserve soil. Such incentives can be implemented via tax credits and loan gaurantees."
   ]
  }
 ],
 "metadata": {
  "kernelspec": {
   "display_name": "Python 3",
   "language": "python",
   "name": "python3"
  },
  "language_info": {
   "codemirror_mode": {
    "name": "ipython",
    "version": 3
   },
   "file_extension": ".py",
   "mimetype": "text/x-python",
   "name": "python",
   "nbconvert_exporter": "python",
   "pygments_lexer": "ipython3",
   "version": "3.7.3"
  }
 },
 "nbformat": 4,
 "nbformat_minor": 2
}
